{
 "cells": [
  {
   "cell_type": "code",
   "execution_count": null,
   "metadata": {},
   "outputs": [],
   "source": [
    "original_number = '123'\n",
    "\n",
    "while True:\n",
    "    guess_number = input('Enter the number')\n",
    "    output = []\n",
    "    if len(original_number) != len(guess_number):\n",
    "        print('Enter a valid number')\n",
    "        continue\n",
    "    if len(original_number) != len(set(guess_number)):\n",
    "        print('Enter a valid number without duplicates')\n",
    "        continue\n",
    "    if guess_number == original_number:\n",
    "        print('fermi' * len(original_number))\n",
    "        print('You Win')\n",
    "        break\n",
    "    for i  in range(len(original_number)):\n",
    "        for j in range(len(guess_number)):\n",
    "            if original_number[i] == guess_number[j]:\n",
    "                if i == j:\n",
    "                    output.append('Fermi')\n",
    "                else:\n",
    "                    output.append('Pico')\n",
    "    output_string = ''\n",
    "    for item in output:\n",
    "        output_string = output_string + ' ' +item\n",
    "    print(output_string)\n",
    "    if len(output) == 0:\n",
    "        print('Begel')\n",
    "    else:\n",
    "        print(output_string)\n",
    "\n",
    "\n",
    "\n",
    "\n"
   ]
  }
 ],
 "metadata": {
  "language_info": {
   "name": "python"
  }
 },
 "nbformat": 4,
 "nbformat_minor": 2
}
