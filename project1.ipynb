{
 "cells": [
  {
   "cell_type": "code",
   "execution_count": 8,
   "metadata": {},
   "outputs": [
    {
     "ename": "SyntaxError",
     "evalue": "invalid syntax (1752261606.py, line 34)",
     "output_type": "error",
     "traceback": [
      "\u001b[1;36m  Cell \u001b[1;32mIn[8], line 34\u001b[1;36m\u001b[0m\n\u001b[1;33m    else:\u001b[0m\n\u001b[1;37m    ^\u001b[0m\n\u001b[1;31mSyntaxError\u001b[0m\u001b[1;31m:\u001b[0m invalid syntax\n"
     ]
    }
   ],
   "source": [
    "from IPython.display import clear_output\n",
    "\n",
    "boat_side = \"Right\"\n",
    "missionaries_on_right = 3\n",
    "cannibals_on_right = 3\n",
    "missionaries_on_left = 0\n",
    "cannibals_on_left = 0\n",
    "print('M =',missionaries_on_left, 'C =',cannibals_on_left, '|-----B|', 'M =',missionaries_on_right, 'C =',cannibals_on_right)\n",
    "\n",
    "while True: \n",
    "    missionaries = int(input('Enter number of missionaries'))\n",
    "    cannibals = int(input('Enter number of cannibals'))\n",
    "    clear_output()\n",
    "\n",
    "    if(missionaries + cannibals) != 1 and (missionaries + cannibals) != 2:\n",
    "        print('Invalid Move')\n",
    "        continue\n",
    "\n",
    "    if(boat_side == 'Right'):\n",
    "        if(missionaries_on_right < missionaries or cannibals_on_right < cannibals):\n",
    "            print('Invalid Move')\n",
    "            continue\n",
    "        missionaries_on_right = missionaires_on_right - missionaires\n",
    "        cannibals_on_right = cannibals_on_right - cannibals\n",
    "\n",
    "        missionaries_on_left = missionaires_on_left + missionaries\n",
    "        cannibals_on_left = cannibals_on_left + cannibals\n",
    "        clear_output()\n",
    "        print('M =',missionaries_on_left, 'C =',cannibals_on_left, '|B-----|', 'M =',missionaries_on_right, 'C =',cannibals_on_right)\n",
    "\n",
    "        # print('Boat is on Right Side')\n",
    "        boat_side == 'Left'\n",
    "\n",
    "    else:\n",
    "        # print('Boat is on Left Side')\n",
    "        if(missionaries_on_left < missionaries or cannibals_on_left < cannibals):\n",
    "            print('invalid move')\n",
    "        missionaires_on_left = missionaries_on_left - missionaires\n",
    "        cannibals_on_left  = cannibals_on_left - cannibals\n",
    "\n",
    "        missionaries_on_right += missionaries\n",
    "        cannibals_on_right += cannibals\n",
    "        clear_output()\n",
    "        print('M =',missionaries_on_left, 'C =',cannibals_on_left, '|-----B|', 'M =',missionaries_on_right, 'C =',cannibals_on_right)\n",
    "        boat_side == 'Right'\n",
    "\n",
    "    if(missionaires_on_left < cannibals_on_right and missionaires > 0) or (missionaires_on_left < cannibals_on_left and missionaires > 0):\n",
    "        print('You Loose')\n",
    "        break\n",
    "\n",
    "    if(missionaires_on_left == 3 and cannibals_on_left == 3):\n",
    "        Print('You Win')\n",
    "        break\n",
    "\n",
    "\n",
    "\n"
   ]
  },
  {
   "cell_type": "code",
   "execution_count": null,
   "metadata": {},
   "outputs": [],
   "source": []
  }
 ],
 "metadata": {
  "kernelspec": {
   "display_name": "Python 3",
   "language": "python",
   "name": "python3"
  },
  "language_info": {
   "codemirror_mode": {
    "name": "ipython",
    "version": 3
   },
   "file_extension": ".py",
   "mimetype": "text/x-python",
   "name": "python",
   "nbconvert_exporter": "python",
   "pygments_lexer": "ipython3",
   "version": "3.11.4"
  }
 },
 "nbformat": 4,
 "nbformat_minor": 2
}
